{
  "nbformat": 4,
  "nbformat_minor": 0,
  "metadata": {
    "colab": {
      "name": "TTS.ipynb",
      "provenance": [],
      "collapsed_sections": []
    },
    "kernelspec": {
      "name": "python3",
      "display_name": "Python 3"
    },
    "language_info": {
      "name": "python"
    }
  },
  "cells": [
    {
      "cell_type": "code",
      "execution_count": null,
      "metadata": {
        "colab": {
          "base_uri": "https://localhost:8080/"
        },
        "id": "mp6L9nCZkFn0",
        "outputId": "800f771f-4859-41fc-8235-a00d84343e59"
      },
      "outputs": [
        {
          "output_type": "stream",
          "name": "stdout",
          "text": [
            "Mounted at /content/gdrive\n"
          ]
        }
      ],
      "source": [
        "from google.colab import drive\n",
        "drive.mount('/content/gdrive')"
      ]
    },
    {
      "cell_type": "code",
      "source": [
        "pip install gTTS pyttsx3 playsound"
      ],
      "metadata": {
        "id": "Gl5BgJGLkJ-_"
      },
      "execution_count": null,
      "outputs": []
    },
    {
      "cell_type": "code",
      "source": [
        "pip install pygobject"
      ],
      "metadata": {
        "id": "WvCLDqjymQq8"
      },
      "execution_count": null,
      "outputs": []
    },
    {
      "cell_type": "code",
      "source": [
        "# Using gTTS\n",
        "import gtts\n",
        "from playsound import playsound\n",
        "import os\n",
        "\n",
        "welcome = gtts.gTTS(\"Welcome to Machine Learning Lab!\", lang = 'ur')\n",
        "welcome.save(\"gdrive/My Drive/Colab Notebooks/welcome.mp3\")"
      ],
      "metadata": {
        "id": "DyFbVE-KlI7g"
      },
      "execution_count": null,
      "outputs": []
    },
    {
      "cell_type": "code",
      "source": [
        "greeting = gtts.gTTS(\"Hello I'm Salt! How's your day? What would you like to order?\", lang = 'de')\n",
        "greeting.save(\"gdrive/My Drive/Colab Notebooks/hello.mp3\")"
      ],
      "metadata": {
        "id": "oC1yzSKDlQ7b"
      },
      "execution_count": null,
      "outputs": []
    },
    {
      "cell_type": "code",
      "source": [
        "pip install pyttsx3"
      ],
      "metadata": {
        "id": "LEdVBqdhr0bR"
      },
      "execution_count": null,
      "outputs": []
    },
    {
      "cell_type": "code",
      "source": [
        "# Using pyttsx3\n",
        "import pyttsx3\n",
        "\n",
        "engine = pyttsx3.init()\n",
        "input_text = input(\"Please Enter Text to Convert to Speech: )\n",
        "engine.say(input_text)\n",
        "engine.runAndWait()"
      ],
      "metadata": {
        "id": "SQZkEpfXlduz"
      },
      "execution_count": null,
      "outputs": []
    },
    {
      "cell_type": "code",
      "source": [
        "engine = pyttsx3.init()\n",
        "input_text = \"Hello I'm Salt... What would you like to order?\"\n",
        "engine.say(input_text)\n",
        "engine.runAndWait()"
      ],
      "metadata": {
        "id": "bsb0aRQOllAv"
      },
      "execution_count": null,
      "outputs": []
    }
  ]
}